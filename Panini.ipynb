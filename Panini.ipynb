{
 "cells": [
  {
   "cell_type": "code",
   "execution_count": 1,
   "id": "e3a42afc-5737-4aee-a437-2852f41e608e",
   "metadata": {},
   "outputs": [],
   "source": [
    "# Importa as bibliotecas necessárias\n",
    "import numpy as np # utilizada para calcular estatísticas em arrays e listas\n",
    "import seaborn as sns # utilizada para criarmos visualizações gráficas\n",
    "import random # utilizada para gerar eventos aleatórios\n",
    "import matplotlib.pyplot as plt # utilizada para criarmos visualizações gráficas"
   ]
  },
  {
   "cell_type": "code",
   "execution_count": 2,
   "id": "669751e1-57fd-4529-8d4c-8048caf5252c",
   "metadata": {},
   "outputs": [],
   "source": [
    "# Cria função para simular um álbum\n",
    "def simular_album(sticker_total,stickers_in_pack,cost_of_pack):\n",
    "    \"\"\"\n",
    "    Calcula um cenário aleatório de custos para completar um álbum de figurinhas.\n",
    "    \n",
    "    Argumentos:\n",
    "    \n",
    "        sticker_total: Número de figurinhas únicas disponíveis para colecionar\n",
    "        \n",
    "        stickers_in_pack: Número de figurinhas em um determinado pacote\n",
    "        \n",
    "        cost_of_pack: Custo de cada pacote\n",
    "        \n",
    "    Retorna:\n",
    "        \n",
    "        dicionário: '{Pacotes Comprados:int,Repetidas:int}'\n",
    "    \n",
    "    \"\"\"\n",
    "    # Inicia o número de pacotes comprados\n",
    "    packs_bought = 0\n",
    "    # Lista contendo o número identificador de cada figurinha colecionada\n",
    "    stickers_collected = []\n",
    "    # Lista contendo o número identificador de cada figurinha repetida colecionada\n",
    "    repeated_list = []\n",
    "    # Lista contendo o número identificador de cada figurinha que ainda não possuímos\n",
    "    stickers_needed = list(range(1,sticker_total+1))\n",
    "      \n",
    "       \n",
    "    # Itera até o número de figurinhas necessárias para completar o álbum ser igual a 0\n",
    "    while len(stickers_needed) > 0:\n",
    "        # Compra um pacote\n",
    "        packs_bought += 1\n",
    "        # Itera através das figurinhas individuais do determinado pacote\n",
    "        for i in range(stickers_in_pack):\n",
    "            # Número identificador da figurinha é selecionado aleatoriamente entre 1 e o número de figurinhas no álbum\n",
    "            sticker_number = random.randint(1,sticker_total)\n",
    "            # Caso a figurinha não esteja em nossa coleção, adicionamos seu identificador\n",
    "            # à lista de colecionadas e removemos o seu identificador da lista de figurinhas que não possuímos\n",
    "            if sticker_number not in stickers_collected:\n",
    "                stickers_collected.append(sticker_number)\n",
    "                stickers_needed.remove(sticker_number)\n",
    "            # Caso a figurinha em questão já faça parte da coleção, adicionamos à lista de repetidas\n",
    "            else:\n",
    "                repeated_list.append(sticker_number)\n",
    "            \n",
    "    # Retorna o número final de pacotes comprados, quantas figurinhas repetidas ainda temos ao fim da coleção e o valor total gasto\n",
    "    return {'Pacotes Comprados':packs_bought,'Repetidas':len(repeated_list),'Custo Total':packs_bought*cost_of_pack}"
   ]
  },
  {
   "cell_type": "code",
   "execution_count": 3,
   "id": "c49189e0-af7e-43be-ad1d-54a8d9b107b8",
   "metadata": {
    "tags": []
   },
   "outputs": [
    {
     "name": "stdout",
     "output_type": "stream",
     "text": [
      "{'Pacotes Comprados': 1117, 'Repetidas': 4915, 'Custo Total': 4468}\n"
     ]
    }
   ],
   "source": [
    "##### Simulação de 1 cenário\n",
    "print(simular_album(670,5,4))"
   ]
  },
  {
   "cell_type": "code",
   "execution_count": 4,
   "id": "f339e265-e876-4ba7-a3fa-e19d1dfc1a8a",
   "metadata": {},
   "outputs": [],
   "source": [
    "# Cria função para realizar a simulação de Monte Carlo\n",
    "def run_Monte_Carlo_Stickers(n,params):\n",
    "    \"\"\"\n",
    "    Gera n cenários com base na função simular_album e seus respectivos parâmetros.\n",
    "    \n",
    "    Argumentos:\n",
    "    \n",
    "        n: int, número de cenários a serem gerados\n",
    "        params: lista, parâmetros da função simular_album\n",
    "        \n",
    "    Retorna:\n",
    "    \n",
    "        dicionário: '{Pacotes Comprados : lista, Repetidas : lista}\n",
    "        \n",
    "    \"\"\"\n",
    "\n",
    "    def simular_album(sticker_total,stickers_in_pack,cost_of_pack):\n",
    "        \"\"\"\n",
    "        Calcula um cenário aleatório de custos para completar um álbum de figurinhas.\n",
    "\n",
    "        Argumentos:\n",
    "\n",
    "            sticker_total: Número de figurinhas únicas disponíveis para colecionar\n",
    "\n",
    "            stickers_in_pack: Número de figurinhas em um determinado pacote\n",
    "\n",
    "            cost_of_pack: Custo de cada pacote\n",
    "\n",
    "        Retorna:\n",
    "\n",
    "            dicionário: '{Pacotes Comprados:int,Repetidas:int}'\n",
    "\n",
    "        \"\"\"\n",
    "        # Inicia o número de pacotes comprados\n",
    "        packs_bought = 0\n",
    "        # Lista contendo o número identificador de cada figurinha colecionada\n",
    "        stickers_collected = []\n",
    "        # Lista contendo o número identificador de cada figurinha repetida colecionada\n",
    "        repeated_list = []\n",
    "        # Lista contendo o número identificador de cada figurinha que ainda não possuímos\n",
    "        stickers_needed = list(range(1,sticker_total+1))\n",
    "\n",
    "\n",
    "        # Itera até o número de figurinhas necessárias para completar o álbum ser igual a 0\n",
    "        while len(stickers_needed) > 0:\n",
    "            # Compra um pacote\n",
    "            packs_bought += 1\n",
    "            # Itera através das figurinhas individuais do determinado pacote\n",
    "            for i in range(stickers_in_pack):\n",
    "                # Número identificador da figurinha é selecionado aleatoriamente entre 1 e o número de figurinhas no álbum\n",
    "                sticker_number = random.randint(1,sticker_total)\n",
    "                # Caso a figurinha não esteja em nossa coleção, adicionamos seu identificador\n",
    "                # à lista de colecionadas e removemos o seu identificador da lista de figurinhas que não possuímos\n",
    "                if sticker_number not in stickers_collected:\n",
    "                    stickers_collected.append(sticker_number)\n",
    "                    stickers_needed.remove(sticker_number)\n",
    "                # Caso a figurinha em questão já faça parte da coleção, adicionamos à lista de repetidas\n",
    "                else:\n",
    "                    repeated_list.append(sticker_number)\n",
    "\n",
    "        # Retorna o número final de pacotes comprados e quantas figurinhas repetidas ainda temos ao fim da coleção\n",
    "        return {'Pacotes Comprados':packs_bought,'Repetidas':len(repeated_list)}\n",
    "\n",
    "    # Inicia listas para armazenar resultados das simulações\n",
    "    packs_bought_results = []\n",
    "    repeated_pile_results = []\n",
    "    \n",
    "    # Itera n vezes a nossa função e adiciona os resultados às listas\n",
    "    for i in range(n):\n",
    "        sim_result = simular_album(params[0],params[1],params[2])\n",
    "        packs_bought_results.append(sim_result['Pacotes Comprados'])\n",
    "        repeated_pile_results.append(sim_result['Repetidas'])\n",
    "        \n",
    "    return {'Pacotes Comprados':packs_bought_results,'Repetidas':repeated_pile_results,'Custo Total':[i * params[2] for i in packs_bought_results]} \n",
    "        \n"
   ]
  },
  {
   "cell_type": "code",
   "execution_count": 5,
   "id": "4000accb-867f-4cbb-a7a5-cea1c402cce4",
   "metadata": {},
   "outputs": [
    {
     "name": "stdout",
     "output_type": "stream",
     "text": [
      "Média de Pacotes: 949.0826\n",
      "Média de Repetidas: 4075.413\n",
      "Custo Médio: 3796.3304\n"
     ]
    }
   ],
   "source": [
    "# Simulação de 10.000 cenários\n",
    "\n",
    "run_10000 = run_Monte_Carlo_Stickers(10000,[670,5,4])\n",
    "\n",
    "# Apresenta o número médio de pacotes comprados, número médio de repetidas que sobram e custo médio\n",
    "print('Média de Pacotes: ' + str(np.mean(run_10000['Pacotes Comprados'])))\n",
    "print('Média de Repetidas: ' + str(np.mean(run_10000['Repetidas'])))\n",
    "print('Custo Médio: ' + str(np.mean(run_10000['Custo Total'])))"
   ]
  },
  {
   "cell_type": "code",
   "execution_count": 12,
   "id": "77e5a161-2992-4e0f-88ce-52361adba1d3",
   "metadata": {},
   "outputs": [
    {
     "data": {
      "image/png": "[encoded data removed]",
      "text/plain": [
       "<Figure size 1440x504 with 1 Axes>"
      ]
     },
     "metadata": {},
     "output_type": "display_data"
    }
   ],
   "source": [
    "# Visualização de 10.000 cenários\n",
    "\n",
    "# Define tamanho do gráfico\n",
    "plt.figure(figsize=(20,7))\n",
    "# Define estilo do gráfico\n",
    "sns.set(style='white', font_scale=0.9)\n",
    "# Gera histograma\n",
    "ax = sns.histplot(run_10000['Custo Total'],stat = 'percent', binwidth=200, binrange = (2000,7600))\n",
    "# Define as marcas de escala no eixo X\n",
    "ax.set_xticks(range(2000,7600,200))\n",
    "# Remove a linha do eixo Y\n",
    "sns.despine(left=True)\n",
    "# Define rótulos dos data points \n",
    "for p in ax.patches:\n",
    "    height = p.get_height()\n",
    "    ax.text(x = p.get_x() + p.get_width()/2, y = height + 0.2, s = '{:.1%}'.format(height/100), ha = 'center')\n",
    "# Define rótulo do eixo Y\n",
    "plt.ylabel('Probabilidade')\n",
    "# Define rótulo do eixo X\n",
    "plt.xlabel('Custo')\n",
    "# Define título do gráfico\n",
    "plt.title('Intervalos de Custos Sem Troca de Figurinhas')\n",
    "# Exporta o png\n",
    "plt.savefig('run_10000.png', dpi = 300)"
   ]
  }
 ],
 "metadata": {
  "kernelspec": {
   "display_name": "Python 3 (ipykernel)",
   "language": "python",
   "name": "python3"
  },
  "language_info": {
   "codemirror_mode": {
    "name": "ipython",
    "version": 3
   },
   "file_extension": ".py",
   "mimetype": "text/x-python",
   "name": "python",
   "nbconvert_exporter": "python",
   "pygments_lexer": "ipython3",
   "version": "3.8.13"
  }
 },
 "nbformat": 4,
 "nbformat_minor": 5
}
